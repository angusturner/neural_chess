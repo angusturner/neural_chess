{
 "cells": [
  {
   "cell_type": "code",
   "execution_count": null,
   "id": "bfa40824-c6a9-4fb3-9b75-d5f22a406e63",
   "metadata": {},
   "outputs": [],
   "source": [
    "import jax\n",
    "import numpy as np\n",
    "import jax.numpy as jnp\n",
    "\n",
    "import sys\n",
    "\n",
    "import chess\n",
    "import chess.engine\n",
    "from chess import Board, Move\n",
    "\n",
    "from hijax.setup import setup_worker\n",
    "\n",
    "from copy import deepcopy\n",
    "from pprint import pprint\n",
    "\n",
    "from IPython.display import display, clear_output\n",
    "from time import sleep"
   ]
  },
  {
   "cell_type": "code",
   "execution_count": null,
   "id": "8a6e23e4-ae75-4d8f-b736-efbf0fd35ce3",
   "metadata": {},
   "outputs": [],
   "source": [
    "sys.path.append(\"../\")"
   ]
  },
  {
   "cell_type": "code",
   "execution_count": null,
   "id": "30f4cd95-1bf5-4502-a9df-f5e64f2c05ee",
   "metadata": {},
   "outputs": [],
   "source": [
    "from neural_chess import MODULE_NAME\n",
    "from neural_chess.utils.data import one_hot_to_move, flat_repr_to_board, board_to_flat_repr, get_legal_move_mask"
   ]
  },
  {
   "cell_type": "code",
   "execution_count": null,
   "id": "3bbb8b81-3e33-4836-b590-a539e3a4c3e3",
   "metadata": {},
   "outputs": [],
   "source": [
    "# load stockfish\n",
    "engine = chess.engine.SimpleEngine.popen_uci(\"/usr/local/bin/stockfish\")"
   ]
  },
  {
   "cell_type": "code",
   "execution_count": null,
   "id": "d2f990a6-43e7-4d9e-bd87-60c3087464aa",
   "metadata": {},
   "outputs": [],
   "source": [
    "# load the worker\n",
    "worker, cfg = setup_worker(\n",
    "    name=\"test7\",\n",
    "    module=MODULE_NAME,\n",
    "    with_wandb=False,\n",
    "    checkpoint_id=\"best\",\n",
    "    exp_dir=\"/Users/angusturner/experiments\"\n",
    ")"
   ]
  },
  {
   "cell_type": "code",
   "execution_count": null,
   "id": "b22857f8-3289-46af-b788-16249808323e",
   "metadata": {},
   "outputs": [],
   "source": [
    "# grab a random batch of items\n",
    "batch = next(worker.loaders.test.__iter__())\n",
    "board_state = batch['board_state']\n",
    "next_move = batch['next_move']\n",
    "turn = batch['turn']\n",
    "castling_rights = batch['castling_rights']\n",
    "elo = batch['elo']\n",
    "legal_moves = batch['legal_moves']\n",
    "en_passant = batch['en_passant']"
   ]
  },
  {
   "cell_type": "code",
   "execution_count": null,
   "id": "9949998f-f217-42e3-8ddc-7ce527180032",
   "metadata": {},
   "outputs": [],
   "source": [
    "# view a random batch item\n",
    "idx = 2\n",
    "print(elo[idx] * 2500)\n",
    "# elo[idx] = 0.9 \n",
    "board = flat_repr_to_board(board_state[idx], turn[idx])"
   ]
  },
  {
   "cell_type": "code",
   "execution_count": null,
   "id": "0594fce5-d9f6-427c-90c1-b98cae999e5b",
   "metadata": {},
   "outputs": [],
   "source": [
    "# view the actual move\n",
    "board_next = deepcopy(board)\n",
    "board_next.push(one_hot_to_move(next_move[idx]))\n",
    "board_next"
   ]
  },
  {
   "cell_type": "code",
   "execution_count": null,
   "id": "afd8b4cf-d8c9-40fb-9ac2-d7d6870626c6",
   "metadata": {},
   "outputs": [],
   "source": [
    "# get the model-predicted move\n",
    "params = worker.params\n",
    "rng = worker.rng_key\n",
    "\n",
    "@jax.jit\n",
    "def infer(board_state, turn, castling_rights, en_passant, elo, legal_moves, **_kwargs):\n",
    "    logits = worker.forward.apply(\n",
    "        params,\n",
    "        rng, \n",
    "        board_state,\n",
    "        turn,\n",
    "        castling_rights,\n",
    "        en_passant,\n",
    "        elo,\n",
    "        is_training=False\n",
    "    )\n",
    "    logits = jnp.where(legal_moves, logits, jnp.full_like(logits, -1e9))\n",
    "    return jax.nn.softmax(logits, axis=-1)"
   ]
  },
  {
   "cell_type": "code",
   "execution_count": null,
   "id": "b34463fa-eaca-49f6-a11f-c8e571b2ede1",
   "metadata": {},
   "outputs": [],
   "source": [
    "move_probs = np.array(infer(**batch))[idx]"
   ]
  },
  {
   "cell_type": "code",
   "execution_count": null,
   "id": "343479e7-76f7-42d3-a427-93e7925fd7a8",
   "metadata": {},
   "outputs": [],
   "source": [
    "def sample_move(move_probs, greedy=False, topk=5):\n",
    "    best_move_idxs = np.argsort(-move_probs)\n",
    "    best_move_probs = move_probs[best_move_idxs]\n",
    "    best_move_idxs = np.argsort(-move_probs)[:topk]\n",
    "    best_move_probs = move_probs[best_move_idxs][:topk]\n",
    "    move_preds = []\n",
    "    for i, move_idx in enumerate(best_move_idxs):\n",
    "        # convert to one-hot\n",
    "        one_hot = np.zeros_like(move_probs)\n",
    "        one_hot[move_idx] = 1\n",
    "        move_pred = one_hot_to_move(one_hot)\n",
    "        move_preds.append((move_pred, best_move_probs[i]))\n",
    "        \n",
    "    # renormalise and sample multinomial\n",
    "    if greedy:\n",
    "        move = move_preds[0][0]\n",
    "    else:\n",
    "        probs = np.array([x[1] for x in move_preds])\n",
    "        probs = probs / np.sum(probs)  # re-normalise\n",
    "        outcomes = np.random.multinomial(n=1, pvals=probs)\n",
    "        idx, = np.where(outcomes)[0]\n",
    "        move = move_preds[idx][0]\n",
    "    \n",
    "    return move, move_preds"
   ]
  },
  {
   "cell_type": "code",
   "execution_count": null,
   "id": "bba0e4cf-a46c-4f22-b430-18dd8adeb2aa",
   "metadata": {},
   "outputs": [],
   "source": [
    "# look at the top move prediction\n",
    "move, move_preds = sample_move(move_probs)\n",
    "print(f\"Sampled {move}\")\n",
    "pprint(move_preds)"
   ]
  },
  {
   "cell_type": "code",
   "execution_count": null,
   "id": "87cb7f03-56be-47e5-b87d-97be2c6bad35",
   "metadata": {},
   "outputs": [],
   "source": [
    "# view the predicted move\n",
    "board_pred = deepcopy(board)\n",
    "board_pred.push(move)\n",
    "board_pred"
   ]
  },
  {
   "cell_type": "code",
   "execution_count": null,
   "id": "d95043f2-169e-4394-8090-f87994e23084",
   "metadata": {},
   "outputs": [],
   "source": [
    "info = engine.analyse(board, chess.engine.Limit(time=0.1))\n",
    "print(\"Pre Move Score:\", info[\"score\"])\n",
    "info = engine.analyse(board_next, chess.engine.Limit(time=0.1))\n",
    "print(\"Score after next:\", info[\"score\"])\n",
    "info = engine.analyse(board_pred, chess.engine.Limit(time=0.1))\n",
    "print(\"Score after predicted:\", info[\"score\"])"
   ]
  },
  {
   "cell_type": "code",
   "execution_count": null,
   "id": "d26f334f-4ee9-4002-a9e3-d9dc65ee74c0",
   "metadata": {},
   "outputs": [],
   "source": [
    "# get the model to play itself!\n",
    "def infer_from_board(board: Board, elos = (2000, 2000)):\n",
    "    # encode the board\n",
    "    board_state = board_to_flat_repr(board).astype(np.int32)\n",
    "    \n",
    "    # get the turn, castling rights, etc...\n",
    "    turn = board.turn\n",
    "    castling_rights = board.has_castling_rights(turn)\n",
    "    elo = elos[int(turn)]\n",
    "    elo = elo / 2500  # approx. in [0, 1]\n",
    "\n",
    "    # is there an en-passant square?\n",
    "    # - [0, 63] indicating the position that can be moved to with en-passant\n",
    "    # - 64 indicating no en-passant rights\n",
    "    en_passant = board.ep_square if board.ep_square else 64\n",
    "    \n",
    "    # legal moves mask!\n",
    "    legal_moves = get_legal_move_mask(board).astype(bool)\n",
    "    \n",
    "    # convert stuff to arrays with batch dimension\n",
    "    batch = {\n",
    "        'board_state': board_state.reshape([1, -1]),\n",
    "        'turn': np.array([board.turn]).astype(np.int32),\n",
    "        'elo': np.array([elo]).astype(np.float32),\n",
    "        'en_passant': np.array([en_passant]).astype(np.int32),\n",
    "        'castling_rights': np.array([castling_rights]).astype(np.int32),\n",
    "        'legal_moves': legal_moves.reshape([1, -1])\n",
    "    }\n",
    "    \n",
    "    move_probs = np.array(infer(**batch))[0]\n",
    "    next_move = sample_move(move_probs, greedy=False, topk=10)\n",
    "    return next_move"
   ]
  },
  {
   "cell_type": "code",
   "execution_count": null,
   "id": "ddc5ea04-b7c5-4643-a787-5c58fb1c7ffc",
   "metadata": {},
   "outputs": [],
   "source": [
    "board = Board()"
   ]
  },
  {
   "cell_type": "code",
   "execution_count": null,
   "id": "7162ea16-6869-46e1-99f5-a5350cd5366e",
   "metadata": {},
   "outputs": [],
   "source": [
    "display(board)\n",
    "i = 0\n",
    "while True:\n",
    "    if i >= 50 or board.is_checkmate():\n",
    "        break\n",
    "    next_move, _ = infer_from_board(board)\n",
    "    board.push(next_move)\n",
    "    sleep(1.0)\n",
    "    clear_output(wait=True)\n",
    "    display(board)\n",
    "    i += 1"
   ]
  },
  {
   "cell_type": "code",
   "execution_count": null,
   "id": "749bdcbc-9da6-4a81-9686-c5aad29ce8f9",
   "metadata": {},
   "outputs": [],
   "source": []
  }
 ],
 "metadata": {
  "kernelspec": {
   "display_name": "Python 3 (ipykernel)",
   "language": "python",
   "name": "python3"
  },
  "language_info": {
   "codemirror_mode": {
    "name": "ipython",
    "version": 3
   },
   "file_extension": ".py",
   "mimetype": "text/x-python",
   "name": "python",
   "nbconvert_exporter": "python",
   "pygments_lexer": "ipython3",
   "version": "3.8.12"
  }
 },
 "nbformat": 4,
 "nbformat_minor": 5
}
