{
 "cells": [
  {
   "cell_type": "code",
   "execution_count": 1,
   "id": "5d821f9f-e577-42d7-a19d-5dcef4f38a49",
   "metadata": {},
   "outputs": [],
   "source": [
    "import jax\n",
    "import numpy as np\n",
    "import jax.numpy as jnp\n",
    "\n",
    "import haiku as hk"
   ]
  },
  {
   "cell_type": "code",
   "execution_count": 2,
   "id": "52ed9f57-ade3-4580-b78e-f1342631925f",
   "metadata": {},
   "outputs": [],
   "source": [
    "key = jax.random.PRNGKey(10)"
   ]
  },
  {
   "cell_type": "code",
   "execution_count": 3,
   "id": "2b585bce-c6f3-49c9-8e65-256bb9277026",
   "metadata": {},
   "outputs": [],
   "source": [
    "class MyLinear1(hk.Module):\n",
    "    def __init__(self, output_size, name=None):\n",
    "        super().__init__(name=name)\n",
    "        self.output_size = output_size\n",
    "\n",
    "    def __call__(self, x):\n",
    "        j, k = x.shape[-1], self.output_size\n",
    "        w_init = hk.initializers.TruncatedNormal(1. / np.sqrt(j))\n",
    "        w = hk.get_parameter(\"w\", shape=[j, k], dtype=x.dtype, init=w_init)\n",
    "        b = hk.get_parameter(\"b\", shape=[k], dtype=x.dtype, init=jnp.ones)\n",
    "        return jnp.dot(x, w) + b\n",
    "    \n",
    "def _forward_fn_linear1(x):\n",
    "    module = MyLinear1(output_size=2)\n",
    "    return module(x)\n",
    "\n",
    "forward_linear1 = hk.transform(_forward_fn_linear1)"
   ]
  },
  {
   "cell_type": "code",
   "execution_count": 4,
   "id": "110f024f-8319-45f4-bf97-858caea81b02",
   "metadata": {},
   "outputs": [
    {
     "name": "stdout",
     "output_type": "stream",
     "text": [
      "FlatMap({\n",
      "  'my_linear1': FlatMap({\n",
      "                  'w': DeviceArray([[-0.30350366,  0.5123803 ],\n",
      "                                    [ 0.08009139, -0.3163005 ],\n",
      "                                    [ 0.60566676,  0.5820702 ]], dtype=float32),\n",
      "                  'b': DeviceArray([1., 1.], dtype=float32),\n",
      "                }),\n",
      "})\n"
     ]
    }
   ],
   "source": [
    "dummy_x = jnp.array([[1., 2., 3.]])\n",
    "rng_key = jax.random.PRNGKey(42)\n",
    "\n",
    "params = forward_linear1.init(rng=rng_key, x=dummy_x)\n",
    "print(params)"
   ]
  },
  {
   "cell_type": "code",
   "execution_count": null,
   "id": "c1455886-300b-426f-8450-df2f48493627",
   "metadata": {},
   "outputs": [],
   "source": []
  }
 ],
 "metadata": {
  "kernelspec": {
   "display_name": "Python 3",
   "language": "python",
   "name": "python3"
  },
  "language_info": {
   "codemirror_mode": {
    "name": "ipython",
    "version": 3
   },
   "file_extension": ".py",
   "mimetype": "text/x-python",
   "name": "python",
   "nbconvert_exporter": "python",
   "pygments_lexer": "ipython3",
   "version": "3.8.5"
  }
 },
 "nbformat": 4,
 "nbformat_minor": 5
}
