{
 "cells": [
  {
   "cell_type": "code",
   "execution_count": 4,
   "id": "b096eb35-923e-4901-abbf-b7d367bab562",
   "metadata": {},
   "outputs": [],
   "source": [
    "import jax\n",
    "import jax.numpy as jnp\n",
    "import numpy as np\n",
    "from jax.random import PRNGKey\n",
    "import haiku as hk"
   ]
  },
  {
   "cell_type": "code",
   "execution_count": 6,
   "id": "a3640564-9f0b-4011-b5e3-896a35c7060b",
   "metadata": {},
   "outputs": [],
   "source": [
    "rng_key = PRNGKey(42)"
   ]
  },
  {
   "cell_type": "code",
   "execution_count": 8,
   "id": "4f305796-24b1-4ad4-95bd-a6f84551728e",
   "metadata": {},
   "outputs": [
    {
     "name": "stdout",
     "output_type": "stream",
     "text": [
      "Bernoullis are  : (DeviceArray(True, dtype=bool), DeviceArray(False, dtype=bool))\n",
      "\n",
      " Iteration 1\n",
      "Bernoullis are  : (DeviceArray(True, dtype=bool), DeviceArray(False, dtype=bool))\n",
      "\n",
      " Iteration 2\n",
      "Bernoullis are  : (DeviceArray(True, dtype=bool), DeviceArray(False, dtype=bool))\n",
      "\n",
      " Iteration 3\n",
      "Bernoullis are  : (DeviceArray(True, dtype=bool), DeviceArray(False, dtype=bool))\n",
      "\n",
      " Iteration 4\n",
      "Bernoullis are  : (DeviceArray(True, dtype=bool), DeviceArray(False, dtype=bool))\n",
      "\n",
      " Iteration 5\n",
      "Bernoullis are  : (DeviceArray(True, dtype=bool), DeviceArray(False, dtype=bool))\n",
      "\n",
      " Iteration 6\n",
      "Bernoullis are  : (DeviceArray(True, dtype=bool), DeviceArray(False, dtype=bool))\n",
      "\n",
      " Iteration 7\n",
      "Bernoullis are  : (DeviceArray(True, dtype=bool), DeviceArray(False, dtype=bool))\n",
      "\n",
      " Iteration 8\n",
      "Bernoullis are  : (DeviceArray(True, dtype=bool), DeviceArray(False, dtype=bool))\n",
      "\n",
      " Iteration 9\n",
      "Bernoullis are  : (DeviceArray(True, dtype=bool), DeviceArray(False, dtype=bool))\n",
      "\n",
      " Iteration 10\n",
      "Bernoullis are  : (DeviceArray(True, dtype=bool), DeviceArray(False, dtype=bool))\n"
     ]
    }
   ],
   "source": [
    "class HkRandom2(hk.Module):\n",
    "    def __init__(self, rate=0.5):\n",
    "        super().__init__()\n",
    "        self.rate = rate\n",
    "\n",
    "    def __call__(self, x):\n",
    "        key1 = hk.next_rng_key()\n",
    "        return jax.random.bernoulli(key1, 1.0 - self.rate, shape=x.shape)\n",
    "\n",
    "\n",
    "class HkRandomNest(hk.Module):\n",
    "    def __init__(self, rate=0.5):\n",
    "        super().__init__()\n",
    "        self.rate = rate\n",
    "        self._another_random_module = HkRandom2()\n",
    "\n",
    "    def __call__(self, x):\n",
    "        key2 = hk.next_rng_key()\n",
    "        p1 = self._another_random_module(x)\n",
    "        p2 = jax.random.bernoulli(key2, 1.0 - self.rate, shape=x.shape)\n",
    "        print(f'Bernoullis are  : {p1, p2}')\n",
    "\n",
    "# Note that the modules that are stochastic cannot be wrapped with hk.without_apply_rng()\n",
    "forward = hk.transform(lambda x: HkRandomNest()(x))\n",
    "\n",
    "x = jnp.array(1.)\n",
    "params = forward.init(rng_key, x=x)\n",
    "for i in range(10):\n",
    "    print(f'\\n Iteration {i+1}')\n",
    "    prediction = forward.apply(params, x=x, rng=rng_key)"
   ]
  },
  {
   "cell_type": "code",
   "execution_count": null,
   "id": "5b6139b7-5ab3-4e9c-aaca-65cb48a713c6",
   "metadata": {},
   "outputs": [],
   "source": []
  }
 ],
 "metadata": {
  "kernelspec": {
   "display_name": "Python 3 (ipykernel)",
   "language": "python",
   "name": "python3"
  },
  "language_info": {
   "codemirror_mode": {
    "name": "ipython",
    "version": 3
   },
   "file_extension": ".py",
   "mimetype": "text/x-python",
   "name": "python",
   "nbconvert_exporter": "python",
   "pygments_lexer": "ipython3",
   "version": "3.8.12"
  }
 },
 "nbformat": 4,
 "nbformat_minor": 5
}
