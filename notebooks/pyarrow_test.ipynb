{
 "cells": [
  {
   "cell_type": "markdown",
   "id": "356b8db0-bfb3-4489-8347-46b8fe5d14b3",
   "metadata": {},
   "source": [
    "### Experiment with PyArrow For Memmapped Storage"
   ]
  },
  {
   "cell_type": "code",
   "execution_count": 1,
   "id": "8ce4c8bb-18a5-4eef-a209-dee11347733d",
   "metadata": {},
   "outputs": [],
   "source": [
    "import pyarrow as pa \n",
    "import sys"
   ]
  },
  {
   "cell_type": "code",
   "execution_count": 7,
   "id": "8ad1d709-1d61-46b1-a7a8-5f89f2b63e54",
   "metadata": {},
   "outputs": [],
   "source": [
    "# define the type for a single game\n",
    "fields = [\n",
    "    (\"moves\", pa.list_(pa.string())),\n",
    "    (\"white_elo\", pa.uint16()),\n",
    "    (\"black_elo\", pa.uint16()),\n",
    "    (\"result\", pa.uint8())\n",
    "]\n",
    "schema = pa.schema(fields)\n",
    "game_type = pa.struct(fields)"
   ]
  },
  {
   "cell_type": "code",
   "execution_count": 8,
   "id": "5a4ad2fe-be9a-4b5d-8c0e-37bfd38becbb",
   "metadata": {},
   "outputs": [],
   "source": [
    "# make some dummy data\n",
    "dummy_data = [\n",
    "    {\n",
    "        'moves': ['e2e4', 'e7e5', \"e1e2\"],\n",
    "        'white_elo': 1000,\n",
    "        'black_elo': 1600,\n",
    "        'result': 0\n",
    "    },\n",
    "    {\n",
    "        'moves': ['e2e4', 'e7e5', \"e1e2\"],\n",
    "        'white_elo': 1200,\n",
    "        'black_elo': 1100,\n",
    "        'result': 2\n",
    "    },\n",
    "]"
   ]
  },
  {
   "cell_type": "code",
   "execution_count": 9,
   "id": "f2fc45c0-1a2a-47e6-81e9-317285f0e89a",
   "metadata": {},
   "outputs": [],
   "source": [
    "# make 10mil copies\n",
    "for i in range(10000000):\n",
    "    dummy_data += dummy_data[0:2]"
   ]
  },
  {
   "cell_type": "code",
   "execution_count": 5,
   "id": "4fddbfd9-bf52-4537-8784-7e7776c2e6eb",
   "metadata": {},
   "outputs": [
    {
     "data": {
      "text/plain": [
       "0.1561788022518158"
      ]
     },
     "execution_count": 5,
     "metadata": {},
     "output_type": "execute_result"
    }
   ],
   "source": [
    "def get_size(x):\n",
    "    return sys.getsizeof(x) / (1024 * 1024 * 1024)\n",
    "get_size(dummy_data)"
   ]
  },
  {
   "cell_type": "code",
   "execution_count": 12,
   "id": "64ab182f-4f00-4712-81b2-cd87e42789da",
   "metadata": {},
   "outputs": [],
   "source": [
    "# use the streaming record batch interface to write to disk efficiently\n",
    "write_freq = 1000\n",
    "with pa.OSFile('games.arrow', 'wb') as sink:\n",
    "    with pa.ipc.new_file(sink, schema=schema) as writer:\n",
    "        for i in range(0, len(dummy_data), write_freq):\n",
    "            rows = pa.array(dummy_data[i:i+write_freq], type=game_type)\n",
    "            batch = pa.RecordBatch.from_struct_array(rows)\n",
    "            writer.write(batch)"
   ]
  },
  {
   "cell_type": "code",
   "execution_count": 13,
   "id": "76051812-6788-444b-b612-fabb77d80835",
   "metadata": {},
   "outputs": [
    {
     "name": "stdout",
     "output_type": "stream",
     "text": [
      "CPU times: user 143 ms, sys: 82 ms, total: 225 ms\n",
      "Wall time: 224 ms\n"
     ]
    }
   ],
   "source": [
    "%%time\n",
    "# read with mmap\n",
    "with pa.memory_map('games.arrow', 'r') as source:\n",
    "    loaded_arrays = pa.ipc.open_file(source).read_all()"
   ]
  }
 ],
 "metadata": {
  "kernelspec": {
   "display_name": "Python 3 (ipykernel)",
   "language": "python",
   "name": "python3"
  },
  "language_info": {
   "codemirror_mode": {
    "name": "ipython",
    "version": 3
   },
   "file_extension": ".py",
   "mimetype": "text/x-python",
   "name": "python",
   "nbconvert_exporter": "python",
   "pygments_lexer": "ipython3",
   "version": "3.8.12"
  }
 },
 "nbformat": 4,
 "nbformat_minor": 5
}
