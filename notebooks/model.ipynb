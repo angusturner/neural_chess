{
 "cells": [
  {
   "cell_type": "code",
   "execution_count": 1,
   "id": "de13b453-2d94-4ab8-ae4c-57e0cf20740c",
   "metadata": {},
   "outputs": [],
   "source": [
    "import numpy as np\n",
    "import jax\n",
    "import jax.numpy as jnp\n",
    "import haiku as hk\n",
    "\n",
    "import sys\n",
    "sys.path.append('../')"
   ]
  },
  {
   "cell_type": "code",
   "execution_count": 2,
   "id": "c3e96680-e407-43ea-a608-659157dc9f23",
   "metadata": {},
   "outputs": [],
   "source": [
    "from neural_chess.models.policy_net import build_policy_net"
   ]
  },
  {
   "cell_type": "code",
   "execution_count": 3,
   "id": "438fa57c-b257-496a-b4b6-e95c8b387757",
   "metadata": {},
   "outputs": [],
   "source": [
    "# model config\n",
    "model_config = {\n",
    "    'vocab': 13,  # i.e) 12 pieces + empty square\n",
    "    'embedding_dim': 128,\n",
    "    'hidden_dim': 128,\n",
    "    'head_dim': 32,\n",
    "    'nb_layers': 4,\n",
    "    'nb_heads': 4,\n",
    "    'output_dim': 4096,\n",
    "    'dropout': 0.1\n",
    "}"
   ]
  },
  {
   "cell_type": "code",
   "execution_count": 60,
   "id": "22d8d0df-0eec-4fa6-a1c7-4489398bcbce",
   "metadata": {},
   "outputs": [
    {
     "name": "stdout",
     "output_type": "stream",
     "text": [
      "(3, 64)\n",
      "(3,)\n",
      "(3,)\n",
      "(3,)\n",
      "(3,)\n"
     ]
    }
   ],
   "source": [
    "# sample data\n",
    "def get_dummy_batch(batch=8):\n",
    "    \"\"\"\n",
    "    Generate a batch of dummy data, for the purpose of initialising the network parameter\n",
    "    dict (note: this is not a legal board position!)\n",
    "    \"\"\"\n",
    "    board_state = np.random.randint(0, 13, (batch, 64)).astype(np.int32)\n",
    "    turn = np.random.binomial(p=0.5, n=1, size=(batch,)).astype(np.int32)\n",
    "    castling_rights = np.random.binomial(p=0.5, n=1, size=(batch,)).astype(np.int32)\n",
    "    en_passant = np.random.randint(0, 65, (batch,)).astype(np.int32)\n",
    "    elo = np.random.random((batch,)).astype(np.float32)\n",
    "    return board_state, turn, castling_rights, en_passant, elo\n",
    "\n",
    "board_state, turn, castling_rights, en_passant, elo = get_dummy_batch(3)\n",
    "\n",
    "print(board_state.shape)\n",
    "print(elo.shape)\n",
    "print(turn.shape)\n",
    "print(castling_rights.shape)\n",
    "print(en_passant.shape)"
   ]
  },
  {
   "cell_type": "code",
   "execution_count": 5,
   "id": "98c31f94-d3be-45b7-946d-d666542d5b62",
   "metadata": {},
   "outputs": [
    {
     "name": "stderr",
     "output_type": "stream",
     "text": [
      "WARNING:absl:No GPU/TPU found, falling back to CPU. (Set TF_CPP_MIN_LOG_LEVEL=0 and rerun for more info.)\n"
     ]
    }
   ],
   "source": [
    "# get a random key\n",
    "key = jax.random.PRNGKey(42)\n",
    "\n",
    "# initialise the network!\n",
    "forward_fn = build_policy_net(model_config)\n",
    "init, apply = hk.transform(forward_fn)\n",
    "\n",
    "params = init(key, board_state, turn, castling_rights, en_passant, elo, is_training=True)"
   ]
  },
  {
   "cell_type": "code",
   "execution_count": 6,
   "id": "15c8daa5-ef0d-40fb-9d56-847bc04eeb82",
   "metadata": {},
   "outputs": [
    {
     "name": "stdout",
     "output_type": "stream",
     "text": [
      "FlatMap({\n",
      "  'board_emb': FlatMap({'embeddings': (13, 128)}),\n",
      "  'board_pos_emb': FlatMap({'embeddings': (64, 128)}),\n",
      "  'castle_emb': FlatMap({'embeddings': (2, 128)}),\n",
      "  'elo_emb': FlatMap({'b': (128,), 'w': (1, 128)}),\n",
      "  'en_passant_emb': FlatMap({'embeddings': (65, 128)}),\n",
      "  'set_transformer/layer_norm': FlatMap({'offset': (128,), 'scale': (128,)}),\n",
      "  'set_transformer/mlp/linear': FlatMap({'b': (256,), 'w': (128, 256)}),\n",
      "  'set_transformer/mlp/linear_1': FlatMap({'b': (4096,), 'w': (256, 4096)}),\n",
      "  'set_transformer/~_init_modules_for_layer/layer_norm': FlatMap({'offset': (128,), 'scale': (128,)}),\n",
      "  'set_transformer/~_init_modules_for_layer/layer_norm_1': FlatMap({'offset': (128,), 'scale': (128,)}),\n",
      "  'set_transformer/~_init_modules_for_layer/mlp/linear': FlatMap({'b': (256,), 'w': (128, 256)}),\n",
      "  'set_transformer/~_init_modules_for_layer/mlp/linear_1': FlatMap({'b': (128,), 'w': (256, 128)}),\n",
      "  'set_transformer/~_init_modules_for_layer/multi_head_attention/key': FlatMap({'b': (128,), 'w': (128, 128)}),\n",
      "  'set_transformer/~_init_modules_for_layer/multi_head_attention/linear': FlatMap({'b': (128,), 'w': (128, 128)}),\n",
      "  'set_transformer/~_init_modules_for_layer/multi_head_attention/query': FlatMap({'b': (128,), 'w': (128, 128)}),\n",
      "  'set_transformer/~_init_modules_for_layer/multi_head_attention/value': FlatMap({'b': (128,), 'w': (128, 128)}),\n",
      "  'turn_emb': FlatMap({'embeddings': (2, 128)}),\n",
      "})\n"
     ]
    }
   ],
   "source": [
    "# view the parameter tree\n",
    "shapes = jax.tree_map(lambda x: x.shape, params)\n",
    "print(shapes)"
   ]
  },
  {
   "cell_type": "code",
   "execution_count": 8,
   "id": "64000661-1f08-410b-bcaa-c3c1bf90ffca",
   "metadata": {},
   "outputs": [],
   "source": [
    "# perform a forward pass\n",
    "output = apply(params, key, board_state, turn, castling_rights, en_passant, elo, is_training=True)"
   ]
  },
  {
   "cell_type": "code",
   "execution_count": 59,
   "id": "daf5ec00-b78e-4aa1-be96-6d83946297f1",
   "metadata": {},
   "outputs": [
    {
     "data": {
      "text/plain": [
       "jaxlib.xla_extension.DeviceArray"
      ]
     },
     "execution_count": 59,
     "metadata": {},
     "output_type": "execute_result"
    }
   ],
   "source": [
    "type(jnp.ones([10, 10]))"
   ]
  },
  {
   "cell_type": "code",
   "execution_count": 55,
   "id": "2e2c1d24-a1b0-4365-bcd4-9bbf87dd38b9",
   "metadata": {},
   "outputs": [
    {
     "data": {
      "text/plain": [
       "FlatMap({\n",
       "  'embeddings': DeviceArray([[-0.0178461 ,  0.00952877,  0.02462453, ...,  0.01094404,\n",
       "                               0.01913168, -0.00570193],\n",
       "                             [-0.02583723,  0.01335358,  0.02944723, ..., -0.00906039,\n",
       "                               0.01591307,  0.00239701],\n",
       "                             [-0.04328944,  0.01514734, -0.01018374, ..., -0.01745041,\n",
       "                               0.01425417,  0.0224924 ],\n",
       "                             ...,\n",
       "                             [-0.03935785,  0.01419419, -0.01098523, ..., -0.01804546,\n",
       "                               0.03128698,  0.01153706],\n",
       "                             [ 0.00549005, -0.00130867, -0.03411865, ..., -0.00316766,\n",
       "                               0.01009901, -0.0195477 ],\n",
       "                             [ 0.00896102, -0.01897887, -0.00986449, ..., -0.01925972,\n",
       "                               0.00177846, -0.04149825]], dtype=float32),\n",
       "})"
      ]
     },
     "execution_count": 55,
     "metadata": {},
     "output_type": "execute_result"
    }
   ],
   "source": [
    "params['board_emb']"
   ]
  },
  {
   "cell_type": "code",
   "execution_count": 54,
   "id": "367049c0-83db-4c49-9bf9-eef42200f0f6",
   "metadata": {},
   "outputs": [
    {
     "ename": "TypeError",
     "evalue": "set expected at most 1 argument, got 3",
     "output_type": "error",
     "traceback": [
      "\u001b[0;31m---------------------------------------------------------------------------\u001b[0m",
      "\u001b[0;31mTypeError\u001b[0m                                 Traceback (most recent call last)",
      "\u001b[0;32m/var/folders/ss/zljzgxd96_s2np814dty49wc0000gn/T/ipykernel_13652/3583456010.py\u001b[0m in \u001b[0;36m<module>\u001b[0;34m\u001b[0m\n\u001b[1;32m      3\u001b[0m }\n\u001b[1;32m      4\u001b[0m \u001b[0;34m\u001b[0m\u001b[0m\n\u001b[0;32m----> 5\u001b[0;31m \u001b[0mset\u001b[0m\u001b[0;34m(\u001b[0m\u001b[0ma\u001b[0m\u001b[0;34m,\u001b[0m \u001b[0;34m'foo'\u001b[0m\u001b[0;34m,\u001b[0m \u001b[0;34m'baz'\u001b[0m\u001b[0;34m)\u001b[0m\u001b[0;34m\u001b[0m\u001b[0;34m\u001b[0m\u001b[0m\n\u001b[0m\u001b[1;32m      6\u001b[0m \u001b[0ma\u001b[0m\u001b[0;34m\u001b[0m\u001b[0;34m\u001b[0m\u001b[0m\n",
      "\u001b[0;31mTypeError\u001b[0m: set expected at most 1 argument, got 3"
     ]
    }
   ],
   "source": [
    "a = {\n",
    "    'foo': 'bar'\n",
    "}\n",
    "\n",
    "set(a, 'foo', 'baz')\n",
    "a"
   ]
  },
  {
   "cell_type": "code",
   "execution_count": 36,
   "id": "504648e0-b700-4496-b9cd-3b0ed06b3ecb",
   "metadata": {},
   "outputs": [
    {
     "name": "stdout",
     "output_type": "stream",
     "text": [
      "[[-0.47527872 -2.11855561 -1.01028343 ...  0.68336207  0.62772787\n",
      "   0.40962262]\n",
      " [-2.30653632 -0.27302224 -2.53096186 ... -0.6518099   1.09306558\n",
      "   1.11955486]\n",
      " [-0.3245646   0.69697357 -1.79566429 ...  1.3283232   1.7157535\n",
      "   0.91107243]\n",
      " ...\n",
      " [-2.0314028  -1.28422664  1.63000891 ...  2.16287812 -0.78944481\n",
      "  -0.60569176]\n",
      " [ 0.13995263  0.02055319  0.40103754 ... -1.04085873  1.95326781\n",
      "   1.56164687]\n",
      " [-1.73069098  1.54018322  0.42834058 ...  0.0446253   0.45858568\n",
      "  -2.26032743]]\n"
     ]
    }
   ],
   "source": [
    "x = np.random.randn(13, 128)\n",
    "print(x)"
   ]
  },
  {
   "cell_type": "code",
   "execution_count": 37,
   "id": "eeb72cf5-0b7d-41f7-8f23-9be8750766d9",
   "metadata": {},
   "outputs": [
    {
     "data": {
      "text/plain": [
       "DeviceArray([[-0.47527874, -2.1185555 , -1.0102835 , ...,  0.68336207,\n",
       "               0.62772787,  0.4096226 ],\n",
       "             [-2.3065364 , -0.27302223, -2.5309618 , ..., -0.6518099 ,\n",
       "               1.0930656 ,  1.1195549 ],\n",
       "             [-0.3245646 ,  0.69697356, -1.7956643 , ...,  1.3283232 ,\n",
       "               1.7157536 ,  0.91107243],\n",
       "             ...,\n",
       "             [-2.0314028 , -1.2842267 ,  1.6300089 , ...,  2.162878  ,\n",
       "              -0.7894448 , -0.60569173],\n",
       "             [ 0.13995263,  0.02055319,  0.40103754, ..., -1.0408587 ,\n",
       "               1.9532678 ,  1.5616468 ],\n",
       "             [-1.730691  ,  1.5401832 ,  0.42834058, ...,  0.0446253 ,\n",
       "               0.45858568, -2.2603273 ]], dtype=float32)"
      ]
     },
     "execution_count": 37,
     "metadata": {},
     "output_type": "execute_result"
    }
   ],
   "source": [
    "params['board_emb']['embeddings'].at[:].set(x)"
   ]
  },
  {
   "cell_type": "code",
   "execution_count": 9,
   "id": "51318c0c-cb36-405b-afd3-dd6fe22e67ea",
   "metadata": {},
   "outputs": [
    {
     "name": "stdout",
     "output_type": "stream",
     "text": [
      "(3, 4096)\n"
     ]
    }
   ],
   "source": [
    "print(output.shape)"
   ]
  },
  {
   "cell_type": "code",
   "execution_count": 10,
   "id": "fb089fb1-5ea6-4cc0-938e-7c46e5f44ed3",
   "metadata": {},
   "outputs": [],
   "source": [
    "import torch"
   ]
  },
  {
   "cell_type": "code",
   "execution_count": 14,
   "id": "7a9a3d4b-cb29-4edb-9576-6351e4f5adde",
   "metadata": {},
   "outputs": [
    {
     "name": "stderr",
     "output_type": "stream",
     "text": [
      "/var/folders/ss/zljzgxd96_s2np814dty49wc0000gn/T/ipykernel_13652/1154880809.py:2: UserWarning: Implicit dimension choice for log_softmax has been deprecated. Change the call to include dim=X as an argument.\n",
      "  torch.nn.functional.log_softmax(x)\n"
     ]
    },
    {
     "data": {
      "text/plain": [
       "tensor([   -inf, -1.3133, -0.3133])"
      ]
     },
     "execution_count": 14,
     "metadata": {},
     "output_type": "execute_result"
    }
   ],
   "source": [
    "x = torch.tensor([-float('inf'), -5, -4])\n",
    "torch.nn.functional.log_softmax(x)"
   ]
  },
  {
   "cell_type": "code",
   "execution_count": 19,
   "id": "0dc3d7a7-a748-4582-8450-0da958bdecca",
   "metadata": {},
   "outputs": [
    {
     "name": "stdout",
     "output_type": "stream",
     "text": [
      "(array([0, 0, 1, 1, 2, 2]), array([0, 2, 0, 1, 1, 2]))\n"
     ]
    }
   ],
   "source": [
    "x = np.array([\n",
    "    [1, 2, 3, 10],\n",
    "    [4, 5, 6, 10],\n",
    "    [7, 8, 9, 10]\n",
    "])\n",
    "\n",
    "mask = np.array([\n",
    "    [1, 0, 1, 0],\n",
    "    [1, 1, 0, 0],\n",
    "    [0, 1, 1, 0]\n",
    "])\n",
    "\n",
    "w = np.where(mask)\n",
    "print(w)"
   ]
  },
  {
   "cell_type": "code",
   "execution_count": null,
   "id": "8fd12854-cf11-4751-8215-f3877bcd2580",
   "metadata": {},
   "outputs": [],
   "source": []
  }
 ],
 "metadata": {
  "kernelspec": {
   "display_name": "Python 3 (ipykernel)",
   "language": "python",
   "name": "python3"
  },
  "language_info": {
   "codemirror_mode": {
    "name": "ipython",
    "version": 3
   },
   "file_extension": ".py",
   "mimetype": "text/x-python",
   "name": "python",
   "nbconvert_exporter": "python",
   "pygments_lexer": "ipython3",
   "version": "3.8.12"
  }
 },
 "nbformat": 4,
 "nbformat_minor": 5
}
