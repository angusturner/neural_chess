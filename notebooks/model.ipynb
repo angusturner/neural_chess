{
 "cells": [
  {
   "cell_type": "code",
   "execution_count": 8,
   "id": "de13b453-2d94-4ab8-ae4c-57e0cf20740c",
   "metadata": {},
   "outputs": [],
   "source": [
    "import numpy as np\n",
    "import jax\n",
    "import jax.numpy as jnp\n",
    "import haiku as hk"
   ]
  },
  {
   "cell_type": "code",
   "execution_count": 28,
   "id": "7ed82e7d-dd26-4088-b933-49813d41ec35",
   "metadata": {},
   "outputs": [],
   "source": [
    "key = jax.random.PRNGKey(42)\n",
    "mask = jax.random.bernoulli(key, 0.5, shape=[10, 10])"
   ]
  },
  {
   "cell_type": "code",
   "execution_count": 29,
   "id": "9e9a6145-62ef-4d2f-a403-90fe4ac8272e",
   "metadata": {},
   "outputs": [
    {
     "data": {
      "text/plain": [
       "DeviceArray([[0., 0., 0., 1., 1., 1., 1., 0., 1., 1.],\n",
       "             [0., 1., 0., 0., 0., 0., 0., 1., 1., 1.],\n",
       "             [1., 1., 0., 0., 0., 1., 0., 1., 1., 0.],\n",
       "             [1., 1., 1., 1., 1., 0., 0., 1., 1., 1.],\n",
       "             [0., 0., 0., 1., 1., 0., 0., 0., 0., 0.],\n",
       "             [1., 0., 0., 0., 1., 1., 1., 0., 0., 1.],\n",
       "             [1., 0., 0., 0., 0., 0., 0., 1., 0., 0.],\n",
       "             [1., 0., 1., 0., 1., 1., 1., 0., 0., 1.],\n",
       "             [0., 0., 1., 0., 0., 0., 0., 1., 1., 1.],\n",
       "             [0., 1., 1., 1., 1., 1., 1., 1., 0., 1.]], dtype=float32)"
      ]
     },
     "execution_count": 29,
     "metadata": {},
     "output_type": "execute_result"
    }
   ],
   "source": [
    "jnp.ones([10, 10], dtype=jnp.float32) * mask"
   ]
  },
  {
   "cell_type": "code",
   "execution_count": null,
   "id": "3f72f15a-3e3d-47ba-baa8-1aabab75e11b",
   "metadata": {},
   "outputs": [],
   "source": []
  }
 ],
 "metadata": {
  "kernelspec": {
   "display_name": "Python 3 (ipykernel)",
   "language": "python",
   "name": "python3"
  },
  "language_info": {
   "codemirror_mode": {
    "name": "ipython",
    "version": 3
   },
   "file_extension": ".py",
   "mimetype": "text/x-python",
   "name": "python",
   "nbconvert_exporter": "python",
   "pygments_lexer": "ipython3",
   "version": "3.8.12"
  }
 },
 "nbformat": 4,
 "nbformat_minor": 5
}
