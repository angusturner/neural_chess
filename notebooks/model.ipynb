{
 "cells": [
  {
   "cell_type": "code",
   "execution_count": 1,
   "id": "de13b453-2d94-4ab8-ae4c-57e0cf20740c",
   "metadata": {},
   "outputs": [],
   "source": [
    "import numpy as np\n",
    "import jax\n",
    "import jax.numpy as jnp\n",
    "import haiku as hk\n",
    "# import hijax as hx\n",
    "\n",
    "import sys\n",
    "sys.path.append('../')"
   ]
  },
  {
   "cell_type": "code",
   "execution_count": 2,
   "id": "c3e96680-e407-43ea-a608-659157dc9f23",
   "metadata": {},
   "outputs": [],
   "source": [
    "from neural_chess.models.policy_net import build_policy_net"
   ]
  },
  {
   "cell_type": "code",
   "execution_count": 3,
   "id": "438fa57c-b257-496a-b4b6-e95c8b387757",
   "metadata": {},
   "outputs": [],
   "source": [
    "# model config\n",
    "model_config = {\n",
    "    'vocab': 13,  # i.e) 12 pieces + empty square\n",
    "    'embedding_dim': 256,\n",
    "    'hidden_dim': 256,\n",
    "    'head_dim': 64,\n",
    "    'nb_layers': 1,\n",
    "    'nb_heads': 4,\n",
    "    'output_dim': 4096,\n",
    "    'dropout': 0.1\n",
    "}"
   ]
  },
  {
   "cell_type": "code",
   "execution_count": 4,
   "id": "22d8d0df-0eec-4fa6-a1c7-4489398bcbce",
   "metadata": {},
   "outputs": [
    {
     "name": "stdout",
     "output_type": "stream",
     "text": [
      "(3, 64)\n",
      "(3,)\n",
      "(3,)\n",
      "(3,)\n",
      "(3,)\n"
     ]
    }
   ],
   "source": [
    "# sample data\n",
    "def get_dummy_batch(batch=8):\n",
    "    \"\"\"\n",
    "    Generate a batch of dummy data, for the purpose of initialising the network parameter\n",
    "    dict (note: this is not a legal board position!)\n",
    "    \"\"\"\n",
    "    board_state = np.random.randint(0, 13, (batch, 64)).astype(np.int32)\n",
    "    turn = np.random.binomial(p=0.5, n=1, size=(batch,)).astype(np.int32)\n",
    "    castling_rights = np.random.binomial(p=0.5, n=1, size=(batch,)).astype(np.int32)\n",
    "    en_passant = np.random.randint(0, 65, (batch,)).astype(np.int32)\n",
    "    elo = np.random.random((batch,)).astype(np.float32)\n",
    "    return board_state, turn, castling_rights, en_passant, elo\n",
    "\n",
    "board_state, turn, castling_rights, en_passant, elo = get_dummy_batch(3)\n",
    "\n",
    "print(board_state.shape)\n",
    "print(elo.shape)\n",
    "print(turn.shape)\n",
    "print(castling_rights.shape)\n",
    "print(en_passant.shape)"
   ]
  },
  {
   "cell_type": "code",
   "execution_count": 5,
   "id": "98c31f94-d3be-45b7-946d-d666542d5b62",
   "metadata": {},
   "outputs": [],
   "source": [
    "# get a random key\n",
    "key = jax.random.PRNGKey(42)\n",
    "\n",
    "# initialise the network!\n",
    "forward_fn = build_policy_net(**model_config)\n",
    "init, apply = hk.transform(forward_fn)\n",
    "\n",
    "params = init(key, is_training=True, **{\n",
    "    'board_state': board_state,\n",
    "    'turn': turn,\n",
    "    'castling_rights': castling_rights,\n",
    "    'en_passant': en_passant,\n",
    "    'elo': elo\n",
    "})"
   ]
  },
  {
   "cell_type": "code",
   "execution_count": 6,
   "id": "15c8daa5-ef0d-40fb-9d56-847bc04eeb82",
   "metadata": {},
   "outputs": [
    {
     "name": "stdout",
     "output_type": "stream",
     "text": [
      "FlatMap({\n",
      "  'board_emb': FlatMap({'embeddings': (13, 256)}),\n",
      "  'board_pos_emb': FlatMap({'embeddings': (64, 256)}),\n",
      "  'castle_emb': FlatMap({'embeddings': (2, 256)}),\n",
      "  'elo_emb': FlatMap({'b': (256,), 'w': (1, 256)}),\n",
      "  'en_passant_emb': FlatMap({'embeddings': (65, 256)}),\n",
      "  'set_transformer/layer_norm': FlatMap({'offset': (256,), 'scale': (256,)}),\n",
      "  'set_transformer/mlp/linear': FlatMap({'b': (512,), 'w': (256, 512)}),\n",
      "  'set_transformer/mlp/linear_1': FlatMap({'b': (4096,), 'w': (512, 4096)}),\n",
      "  'set_transformer/~_init_modules_for_layer/layer_norm': FlatMap({'offset': (256,), 'scale': (256,)}),\n",
      "  'set_transformer/~_init_modules_for_layer/layer_norm_1': FlatMap({'offset': (256,), 'scale': (256,)}),\n",
      "  'set_transformer/~_init_modules_for_layer/mlp/linear': FlatMap({'b': (512,), 'w': (256, 512)}),\n",
      "  'set_transformer/~_init_modules_for_layer/mlp/linear_1': FlatMap({'b': (256,), 'w': (512, 256)}),\n",
      "  'set_transformer/~_init_modules_for_layer/multi_head_attention/key': FlatMap({'b': (256,), 'w': (256, 256)}),\n",
      "  'set_transformer/~_init_modules_for_layer/multi_head_attention/linear': FlatMap({'b': (256,), 'w': (256, 256)}),\n",
      "  'set_transformer/~_init_modules_for_layer/multi_head_attention/query': FlatMap({'b': (256,), 'w': (256, 256)}),\n",
      "  'set_transformer/~_init_modules_for_layer/multi_head_attention/value': FlatMap({'b': (256,), 'w': (256, 256)}),\n",
      "  'turn_emb': FlatMap({'embeddings': (2, 256)}),\n",
      "})\n"
     ]
    }
   ],
   "source": [
    "# view the parameter tree\n",
    "shapes = jax.tree_map(lambda x: x.shape, params)\n",
    "print(shapes)"
   ]
  },
  {
   "cell_type": "code",
   "execution_count": 7,
   "id": "64000661-1f08-410b-bcaa-c3c1bf90ffca",
   "metadata": {},
   "outputs": [],
   "source": [
    "# perform a forward pass\n",
    "output = apply(params, key, board_state, turn, castling_rights, en_passant, elo, is_training=True)"
   ]
  },
  {
   "cell_type": "code",
   "execution_count": 8,
   "id": "3a014ded-00e5-4ec8-8dfb-398087453f47",
   "metadata": {},
   "outputs": [
    {
     "name": "stdout",
     "output_type": "stream",
     "text": [
      "gpu:0\n"
     ]
    }
   ],
   "source": [
    "print(output.device())"
   ]
  },
  {
   "cell_type": "code",
   "execution_count": null,
   "id": "243c5fab-d7a0-4d0c-8995-f303790e7d7a",
   "metadata": {},
   "outputs": [],
   "source": []
  }
 ],
 "metadata": {
  "kernelspec": {
   "display_name": "Python 3",
   "language": "python",
   "name": "python3"
  },
  "language_info": {
   "codemirror_mode": {
    "name": "ipython",
    "version": 3
   },
   "file_extension": ".py",
   "mimetype": "text/x-python",
   "name": "python",
   "nbconvert_exporter": "python",
   "pygments_lexer": "ipython3",
   "version": "3.8.5"
  }
 },
 "nbformat": 4,
 "nbformat_minor": 5
}
