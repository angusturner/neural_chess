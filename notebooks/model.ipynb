{
 "cells": [
  {
   "cell_type": "code",
   "execution_count": 1,
   "id": "de13b453-2d94-4ab8-ae4c-57e0cf20740c",
   "metadata": {},
   "outputs": [],
   "source": [
    "import numpy as np\n",
    "import jax\n",
    "import jax.numpy as jnp\n",
    "import haiku as hk\n",
    "\n",
    "import sys\n",
    "sys.path.append('../')"
   ]
  },
  {
   "cell_type": "code",
   "execution_count": 2,
   "id": "c3e96680-e407-43ea-a608-659157dc9f23",
   "metadata": {},
   "outputs": [],
   "source": [
    "from neural_chess.models.policy_net import build_policy_net"
   ]
  },
  {
   "cell_type": "code",
   "execution_count": 3,
   "id": "438fa57c-b257-496a-b4b6-e95c8b387757",
   "metadata": {},
   "outputs": [],
   "source": [
    "# model config\n",
    "model_config = {\n",
    "    'vocab': 13,  # i.e) 12 pieces + empty square\n",
    "    'embedding_dim': 128,\n",
    "    'hidden_dim': 128,\n",
    "    'head_dim': 32,\n",
    "    'nb_layers': 4,\n",
    "    'nb_heads': 4,\n",
    "    'output_dim': 4096,\n",
    "    'dropout': 0.1\n",
    "}"
   ]
  },
  {
   "cell_type": "code",
   "execution_count": 4,
   "id": "22d8d0df-0eec-4fa6-a1c7-4489398bcbce",
   "metadata": {},
   "outputs": [
    {
     "name": "stdout",
     "output_type": "stream",
     "text": [
      "(3, 64)\n",
      "(3,)\n",
      "(3,)\n"
     ]
    }
   ],
   "source": [
    "# sample data\n",
    "batch = 3\n",
    "board_state = np.random.randint(0, 13, (batch, 64)).astype(np.int32)\n",
    "elo = np.random.random((batch,)).astype(np.float32)\n",
    "turn = np.random.binomial(p=0.5, n=1, size=(batch,)).astype(np.int32)\n",
    "\n",
    "print(board_state.shape)\n",
    "print(elo.shape)\n",
    "print(turn.shape)"
   ]
  },
  {
   "cell_type": "code",
   "execution_count": 14,
   "id": "98c31f94-d3be-45b7-946d-d666542d5b62",
   "metadata": {},
   "outputs": [],
   "source": [
    "# get a random key\n",
    "key = jax.random.PRNGKey(42)\n",
    "\n",
    "# initialise the network!\n",
    "forward_fn = build_policy_net(model_config)\n",
    "init, apply = hk.transform(forward_fn)\n",
    "\n",
    "params = init(key, board_state, turn, elo, is_training=True)"
   ]
  },
  {
   "cell_type": "code",
   "execution_count": 15,
   "id": "15c8daa5-ef0d-40fb-9d56-847bc04eeb82",
   "metadata": {},
   "outputs": [
    {
     "name": "stdout",
     "output_type": "stream",
     "text": [
      "FlatMap({\n",
      "  'embed': FlatMap({'embeddings': (13, 128)}),\n",
      "  'embed_1': FlatMap({'embeddings': (64, 128)}),\n",
      "  'embed_2': FlatMap({'embeddings': (2, 128)}),\n",
      "  'linear': FlatMap({'b': (128,), 'w': (1, 128)}),\n",
      "  'set_transformer/layer_norm': FlatMap({'offset': (128,), 'scale': (128,)}),\n",
      "  'set_transformer/mlp/linear': FlatMap({'b': (256,), 'w': (128, 256)}),\n",
      "  'set_transformer/mlp/linear_1': FlatMap({'b': (4096,), 'w': (256, 4096)}),\n",
      "  'set_transformer/~_init_modules_for_layer/layer_norm': FlatMap({'offset': (128,), 'scale': (128,)}),\n",
      "  'set_transformer/~_init_modules_for_layer/layer_norm_1': FlatMap({'offset': (128,), 'scale': (128,)}),\n",
      "  'set_transformer/~_init_modules_for_layer/mlp/linear': FlatMap({'b': (256,), 'w': (128, 256)}),\n",
      "  'set_transformer/~_init_modules_for_layer/mlp/linear_1': FlatMap({'b': (128,), 'w': (256, 128)}),\n",
      "  'set_transformer/~_init_modules_for_layer/multi_head_attention/key': FlatMap({'b': (128,), 'w': (128, 128)}),\n",
      "  'set_transformer/~_init_modules_for_layer/multi_head_attention/linear': FlatMap({'b': (128,), 'w': (128, 128)}),\n",
      "  'set_transformer/~_init_modules_for_layer/multi_head_attention/query': FlatMap({'b': (128,), 'w': (128, 128)}),\n",
      "  'set_transformer/~_init_modules_for_layer/multi_head_attention/value': FlatMap({'b': (128,), 'w': (128, 128)}),\n",
      "})\n"
     ]
    }
   ],
   "source": [
    "# view the parameter tree\n",
    "shapes = jax.tree_map(lambda x: x.shape, params)\n",
    "print(shapes)"
   ]
  },
  {
   "cell_type": "code",
   "execution_count": 16,
   "id": "64000661-1f08-410b-bcaa-c3c1bf90ffca",
   "metadata": {},
   "outputs": [],
   "source": [
    "# perform a forward pass\n",
    "output = apply(params, key, board_state, turn, elo, is_training=True)"
   ]
  },
  {
   "cell_type": "code",
   "execution_count": 19,
   "id": "51318c0c-cb36-405b-afd3-dd6fe22e67ea",
   "metadata": {},
   "outputs": [
    {
     "name": "stdout",
     "output_type": "stream",
     "text": [
      "(3, 4096)\n"
     ]
    }
   ],
   "source": [
    "print(output.shape)"
   ]
  }
 ],
 "metadata": {
  "kernelspec": {
   "display_name": "Python 3 (ipykernel)",
   "language": "python",
   "name": "python3"
  },
  "language_info": {
   "codemirror_mode": {
    "name": "ipython",
    "version": 3
   },
   "file_extension": ".py",
   "mimetype": "text/x-python",
   "name": "python",
   "nbconvert_exporter": "python",
   "pygments_lexer": "ipython3",
   "version": "3.8.12"
  }
 },
 "nbformat": 4,
 "nbformat_minor": 5
}
