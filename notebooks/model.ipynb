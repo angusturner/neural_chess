{
 "cells": [
  {
   "cell_type": "code",
   "execution_count": 8,
   "id": "de13b453-2d94-4ab8-ae4c-57e0cf20740c",
   "metadata": {},
   "outputs": [],
   "source": [
    "import numpy as np\n",
    "import jax\n",
    "import jax.numpy as jnp\n",
    "import haiku as hk"
   ]
  },
  {
   "cell_type": "code",
   "execution_count": 28,
   "id": "7ed82e7d-dd26-4088-b933-49813d41ec35",
   "metadata": {},
   "outputs": [],
   "source": [
    "key = jax.random.PRNGKey(42)\n",
    "mask = jax.random.bernoulli(key, 0.5, shape=[10, 10])"
   ]
  },
  {
   "cell_type": "code",
   "execution_count": 29,
   "id": "9e9a6145-62ef-4d2f-a403-90fe4ac8272e",
   "metadata": {},
   "outputs": [
    {
     "data": {
      "text/plain": [
       "DeviceArray([[0., 0., 0., 1., 1., 1., 1., 0., 1., 1.],\n",
       "             [0., 1., 0., 0., 0., 0., 0., 1., 1., 1.],\n",
       "             [1., 1., 0., 0., 0., 1., 0., 1., 1., 0.],\n",
       "             [1., 1., 1., 1., 1., 0., 0., 1., 1., 1.],\n",
       "             [0., 0., 0., 1., 1., 0., 0., 0., 0., 0.],\n",
       "             [1., 0., 0., 0., 1., 1., 1., 0., 0., 1.],\n",
       "             [1., 0., 0., 0., 0., 0., 0., 1., 0., 0.],\n",
       "             [1., 0., 1., 0., 1., 1., 1., 0., 0., 1.],\n",
       "             [0., 0., 1., 0., 0., 0., 0., 1., 1., 1.],\n",
       "             [0., 1., 1., 1., 1., 1., 1., 1., 0., 1.]], dtype=float32)"
      ]
     },
     "execution_count": 29,
     "metadata": {},
     "output_type": "execute_result"
    }
   ],
   "source": [
    "jnp.ones([10, 10], dtype=jnp.float32) * mask"
   ]
  },
  {
   "cell_type": "code",
   "execution_count": 64,
   "id": "3f72f15a-3e3d-47ba-baa8-1aabab75e11b",
   "metadata": {},
   "outputs": [],
   "source": [
    "class Test(hk.Module):\n",
    "    def __init__(self):\n",
    "        # apply 2 sets of layer norm to test Haiku behaviour.\n",
    "        super().__init__()\n",
    "    \n",
    "    def __call__(self, x):\n",
    "        x = hk.LayerNorm(axis=-1, create_scale=True, create_offset=True)(x)\n",
    "        x = hk.LayerNorm(axis=-1, create_scale=True, create_offset=True)(x)\n",
    "        return x\n",
    "    \n",
    "class Test2(hk.Module):\n",
    "    def __init__(self):\n",
    "        # apply 2 sets of layer norm to test Haiku behaviour.\n",
    "        super().__init__()\n",
    "    \n",
    "    def __call__(self, x):\n",
    "        ln_reuse = hk.LayerNorm(axis=-1, create_scale=True, create_offset=True)\n",
    "        x = ln_reuse(x)\n",
    "        x = ln_reuse(x)\n",
    "        return x\n",
    "    \n",
    "def net(x):\n",
    "    return Test2()(x)"
   ]
  },
  {
   "cell_type": "code",
   "execution_count": 65,
   "id": "81731226-bbe8-4026-917f-e623992d399c",
   "metadata": {},
   "outputs": [],
   "source": [
    "# get random key\n",
    "rng_key = jax.random.PRNGKey(42)\n",
    "\n",
    "# transform fn. with state\n",
    "f = hk.transform_with_state(net)\n",
    "f = hk.without_apply_rng(f)\n",
    "\n",
    "dummy = np.random.randn(10, 100).astype(np.float32)\n",
    "params, state = f.init(rng_key, dummy)"
   ]
  },
  {
   "cell_type": "code",
   "execution_count": 66,
   "id": "e2f703b7-2d2a-48d0-8429-abbb4d63dfe4",
   "metadata": {},
   "outputs": [
    {
     "name": "stdout",
     "output_type": "stream",
     "text": [
      "FlatMap({\n",
      "  'test2/layer_norm': FlatMap({\n",
      "                        'scale': DeviceArray([1., 1., 1., 1., 1., 1., 1., 1., 1., 1., 1., 1., 1., 1., 1.,\n",
      "                                              1., 1., 1., 1., 1., 1., 1., 1., 1., 1., 1., 1., 1., 1., 1.,\n",
      "                                              1., 1., 1., 1., 1., 1., 1., 1., 1., 1., 1., 1., 1., 1., 1.,\n",
      "                                              1., 1., 1., 1., 1., 1., 1., 1., 1., 1., 1., 1., 1., 1., 1.,\n",
      "                                              1., 1., 1., 1., 1., 1., 1., 1., 1., 1., 1., 1., 1., 1., 1.,\n",
      "                                              1., 1., 1., 1., 1., 1., 1., 1., 1., 1., 1., 1., 1., 1., 1.,\n",
      "                                              1., 1., 1., 1., 1., 1., 1., 1., 1., 1.], dtype=float32),\n",
      "                        'offset': DeviceArray([0., 0., 0., 0., 0., 0., 0., 0., 0., 0., 0., 0., 0., 0., 0.,\n",
      "                                               0., 0., 0., 0., 0., 0., 0., 0., 0., 0., 0., 0., 0., 0., 0.,\n",
      "                                               0., 0., 0., 0., 0., 0., 0., 0., 0., 0., 0., 0., 0., 0., 0.,\n",
      "                                               0., 0., 0., 0., 0., 0., 0., 0., 0., 0., 0., 0., 0., 0., 0.,\n",
      "                                               0., 0., 0., 0., 0., 0., 0., 0., 0., 0., 0., 0., 0., 0., 0.,\n",
      "                                               0., 0., 0., 0., 0., 0., 0., 0., 0., 0., 0., 0., 0., 0., 0.,\n",
      "                                               0., 0., 0., 0., 0., 0., 0., 0., 0., 0.], dtype=float32),\n",
      "                      }),\n",
      "})\n"
     ]
    }
   ],
   "source": [
    "print(params)"
   ]
  },
  {
   "cell_type": "code",
   "execution_count": null,
   "id": "c3e96680-e407-43ea-a608-659157dc9f23",
   "metadata": {},
   "outputs": [],
   "source": []
  }
 ],
 "metadata": {
  "kernelspec": {
   "display_name": "Python 3 (ipykernel)",
   "language": "python",
   "name": "python3"
  },
  "language_info": {
   "codemirror_mode": {
    "name": "ipython",
    "version": 3
   },
   "file_extension": ".py",
   "mimetype": "text/x-python",
   "name": "python",
   "nbconvert_exporter": "python",
   "pygments_lexer": "ipython3",
   "version": "3.8.12"
  }
 },
 "nbformat": 4,
 "nbformat_minor": 5
}
