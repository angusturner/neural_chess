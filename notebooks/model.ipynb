{
 "cells": [
  {
   "cell_type": "code",
   "execution_count": 1,
   "id": "de13b453-2d94-4ab8-ae4c-57e0cf20740c",
   "metadata": {},
   "outputs": [],
   "source": [
    "import numpy as np\n",
    "import jax\n",
    "import jax.numpy as jnp\n",
    "import haiku as hk\n",
    "\n",
    "import sys\n",
    "sys.path.append('../')"
   ]
  },
  {
   "cell_type": "code",
   "execution_count": 2,
   "id": "c3e96680-e407-43ea-a608-659157dc9f23",
   "metadata": {},
   "outputs": [],
   "source": [
    "from neural_chess.models.policy_net import build_policy_net"
   ]
  },
  {
   "cell_type": "code",
   "execution_count": 3,
   "id": "438fa57c-b257-496a-b4b6-e95c8b387757",
   "metadata": {},
   "outputs": [],
   "source": [
    "# model config\n",
    "model_config = {\n",
    "    'vocab': 13,  # i.e) 12 pieces + empty square\n",
    "    'embedding_dim': 128,\n",
    "    'hidden_dim': 128,\n",
    "    'head_dim': 32,\n",
    "    'nb_layers': 4,\n",
    "    'nb_heads': 4,\n",
    "    'output_dim': 4096,\n",
    "    'dropout': 0.1\n",
    "}"
   ]
  },
  {
   "cell_type": "code",
   "execution_count": 4,
   "id": "22d8d0df-0eec-4fa6-a1c7-4489398bcbce",
   "metadata": {},
   "outputs": [
    {
     "name": "stdout",
     "output_type": "stream",
     "text": [
      "(3, 64)\n",
      "(3,)\n",
      "(3,)\n",
      "(3,)\n",
      "(3,)\n"
     ]
    }
   ],
   "source": [
    "# sample data\n",
    "def get_dummy_batch(batch=8):\n",
    "    \"\"\"\n",
    "    Generate a batch of dummy data, for the purpose of initialising the network parameter\n",
    "    dict (note: this is not a legal board position!)\n",
    "    \"\"\"\n",
    "    board_state = np.random.randint(0, 13, (batch, 64)).astype(np.int32)\n",
    "    turn = np.random.binomial(p=0.5, n=1, size=(batch,)).astype(np.int32)\n",
    "    castling_rights = np.random.binomial(p=0.5, n=1, size=(batch,)).astype(np.int32)\n",
    "    en_passant = np.random.randint(0, 65, (batch,)).astype(np.int32)\n",
    "    elo = np.random.random((batch,)).astype(np.float32)\n",
    "    return board_state, turn, castling_rights, en_passant, elo\n",
    "\n",
    "board_state, turn, castling_rights, en_passant, elo = get_dummy_batch(3)\n",
    "\n",
    "print(board_state.shape)\n",
    "print(elo.shape)\n",
    "print(turn.shape)\n",
    "print(castling_rights.shape)\n",
    "print(en_passant.shape)"
   ]
  },
  {
   "cell_type": "code",
   "execution_count": 5,
   "id": "98c31f94-d3be-45b7-946d-d666542d5b62",
   "metadata": {},
   "outputs": [
    {
     "name": "stderr",
     "output_type": "stream",
     "text": [
      "WARNING:absl:No GPU/TPU found, falling back to CPU. (Set TF_CPP_MIN_LOG_LEVEL=0 and rerun for more info.)\n"
     ]
    }
   ],
   "source": [
    "# get a random key\n",
    "key = jax.random.PRNGKey(42)\n",
    "\n",
    "# initialise the network!\n",
    "forward_fn = build_policy_net(**model_config)\n",
    "init, apply = hk.transform(forward_fn)\n",
    "\n",
    "params = init(key, board_state, turn, castling_rights, en_passant, elo, is_training=True)"
   ]
  },
  {
   "cell_type": "code",
   "execution_count": 6,
   "id": "15c8daa5-ef0d-40fb-9d56-847bc04eeb82",
   "metadata": {},
   "outputs": [
    {
     "name": "stdout",
     "output_type": "stream",
     "text": [
      "FlatMap({\n",
      "  'board_emb': FlatMap({'embeddings': (13, 128)}),\n",
      "  'board_pos_emb': FlatMap({'embeddings': (64, 128)}),\n",
      "  'castle_emb': FlatMap({'embeddings': (2, 128)}),\n",
      "  'elo_emb': FlatMap({'b': (128,), 'w': (1, 128)}),\n",
      "  'en_passant_emb': FlatMap({'embeddings': (65, 128)}),\n",
      "  'set_transformer/layer_norm': FlatMap({'offset': (128,), 'scale': (128,)}),\n",
      "  'set_transformer/mlp/linear': FlatMap({'b': (256,), 'w': (128, 256)}),\n",
      "  'set_transformer/mlp/linear_1': FlatMap({'b': (4096,), 'w': (256, 4096)}),\n",
      "  'set_transformer/~_init_modules_for_layer/layer_norm': FlatMap({'offset': (128,), 'scale': (128,)}),\n",
      "  'set_transformer/~_init_modules_for_layer/layer_norm_1': FlatMap({'offset': (128,), 'scale': (128,)}),\n",
      "  'set_transformer/~_init_modules_for_layer/mlp/linear': FlatMap({'b': (256,), 'w': (128, 256)}),\n",
      "  'set_transformer/~_init_modules_for_layer/mlp/linear_1': FlatMap({'b': (128,), 'w': (256, 128)}),\n",
      "  'set_transformer/~_init_modules_for_layer/multi_head_attention/key': FlatMap({'b': (128,), 'w': (128, 128)}),\n",
      "  'set_transformer/~_init_modules_for_layer/multi_head_attention/linear': FlatMap({'b': (128,), 'w': (128, 128)}),\n",
      "  'set_transformer/~_init_modules_for_layer/multi_head_attention/query': FlatMap({'b': (128,), 'w': (128, 128)}),\n",
      "  'set_transformer/~_init_modules_for_layer/multi_head_attention/value': FlatMap({'b': (128,), 'w': (128, 128)}),\n",
      "  'turn_emb': FlatMap({'embeddings': (2, 128)}),\n",
      "})\n"
     ]
    }
   ],
   "source": [
    "# view the parameter tree\n",
    "shapes = jax.tree_map(lambda x: x.shape, params)\n",
    "print(shapes)"
   ]
  },
  {
   "cell_type": "code",
   "execution_count": 7,
   "id": "98ade9e3-840e-4892-b5be-412d98ca3853",
   "metadata": {},
   "outputs": [
    {
     "name": "stdout",
     "output_type": "stream",
     "text": [
      "FlatMap({\n",
      "  'embeddings': DeviceArray([[-0.0178461 ,  0.00952877,  0.02462453, ...,  0.01094404,\n",
      "                               0.01913168, -0.00570193],\n",
      "                             [-0.02583723,  0.01335358,  0.02944723, ..., -0.00906039,\n",
      "                               0.01591307,  0.00239701],\n",
      "                             [-0.04328944,  0.01514734, -0.01018374, ..., -0.01745041,\n",
      "                               0.01425417,  0.0224924 ],\n",
      "                             ...,\n",
      "                             [-0.03935785,  0.01419419, -0.01098523, ..., -0.01804546,\n",
      "                               0.03128698,  0.01153706],\n",
      "                             [ 0.00549005, -0.00130867, -0.03411865, ..., -0.00316766,\n",
      "                               0.01009901, -0.0195477 ],\n",
      "                             [ 0.00896102, -0.01897887, -0.00986449, ..., -0.01925972,\n",
      "                               0.00177846, -0.04149825]], dtype=float32),\n",
      "})\n"
     ]
    }
   ],
   "source": [
    "print(params['board_emb'])"
   ]
  },
  {
   "cell_type": "code",
   "execution_count": 8,
   "id": "64000661-1f08-410b-bcaa-c3c1bf90ffca",
   "metadata": {},
   "outputs": [],
   "source": [
    "# perform a forward pass\n",
    "output = apply(params, key, board_state, turn, castling_rights, en_passant, elo, is_training=True)"
   ]
  }
 ],
 "metadata": {
  "kernelspec": {
   "display_name": "Python 3 (ipykernel)",
   "language": "python",
   "name": "python3"
  },
  "language_info": {
   "codemirror_mode": {
    "name": "ipython",
    "version": 3
   },
   "file_extension": ".py",
   "mimetype": "text/x-python",
   "name": "python",
   "nbconvert_exporter": "python",
   "pygments_lexer": "ipython3",
   "version": "3.8.12"
  }
 },
 "nbformat": 4,
 "nbformat_minor": 5
}
