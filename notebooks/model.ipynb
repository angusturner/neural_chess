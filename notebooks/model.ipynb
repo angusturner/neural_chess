{
 "cells": [
  {
   "cell_type": "code",
   "execution_count": 1,
   "id": "de13b453-2d94-4ab8-ae4c-57e0cf20740c",
   "metadata": {},
   "outputs": [],
   "source": [
    "import numpy as np\n",
    "import jax\n",
    "import jax.numpy as jnp\n",
    "import haiku as hk\n",
    "\n",
    "import sys\n",
    "sys.path.append('../')"
   ]
  },
  {
   "cell_type": "code",
   "execution_count": 2,
   "id": "c3e96680-e407-43ea-a608-659157dc9f23",
   "metadata": {},
   "outputs": [],
   "source": [
    "from neural_chess.models.policy_net import build_policy_net"
   ]
  },
  {
   "cell_type": "code",
   "execution_count": 3,
   "id": "438fa57c-b257-496a-b4b6-e95c8b387757",
   "metadata": {},
   "outputs": [],
   "source": [
    "# model config\n",
    "model_config = {\n",
    "    'vocab': 13,  # i.e) 12 pieces + empty square\n",
    "    'embedding_dim': 128,\n",
    "    'hidden_dim': 128,\n",
    "    'head_dim': 32,\n",
    "    'nb_layers': 4,\n",
    "    'nb_heads': 4,\n",
    "    'output_dim': 4096,\n",
    "    'dropout': 0.1\n",
    "}"
   ]
  },
  {
   "cell_type": "code",
   "execution_count": 4,
   "id": "22d8d0df-0eec-4fa6-a1c7-4489398bcbce",
   "metadata": {},
   "outputs": [
    {
     "name": "stdout",
     "output_type": "stream",
     "text": [
      "(3, 64)\n",
      "(3,)\n",
      "(3,)\n",
      "(3,)\n",
      "(3,)\n"
     ]
    }
   ],
   "source": [
    "# sample data\n",
    "batch = 3\n",
    "board_state = np.random.randint(0, 13, (batch, 64)).astype(np.int32)\n",
    "turn = np.random.binomial(p=0.5, n=1, size=(batch,)).astype(np.int32)\n",
    "castling_rights = np.random.binomial(p=0.5, n=1, size=(batch,)).astype(np.int32)\n",
    "en_passant = np.random.randint(0, 65, (batch,)).astype(np.int32)\n",
    "elo = np.random.random((batch,)).astype(np.float32)\n",
    "\n",
    "print(board_state.shape)\n",
    "print(elo.shape)\n",
    "print(turn.shape)\n",
    "print(castling_rights.shape)\n",
    "print(en_passant.shape)"
   ]
  },
  {
   "cell_type": "code",
   "execution_count": 5,
   "id": "98c31f94-d3be-45b7-946d-d666542d5b62",
   "metadata": {},
   "outputs": [
    {
     "name": "stderr",
     "output_type": "stream",
     "text": [
      "WARNING:absl:No GPU/TPU found, falling back to CPU. (Set TF_CPP_MIN_LOG_LEVEL=0 and rerun for more info.)\n"
     ]
    }
   ],
   "source": [
    "# get a random key\n",
    "key = jax.random.PRNGKey(42)\n",
    "\n",
    "# initialise the network!\n",
    "forward_fn = build_policy_net(model_config)\n",
    "init, apply = hk.transform(forward_fn)\n",
    "\n",
    "params = init(key, board_state, turn, castling_rights, en_passant, elo, is_training=True)"
   ]
  },
  {
   "cell_type": "code",
   "execution_count": 6,
   "id": "15c8daa5-ef0d-40fb-9d56-847bc04eeb82",
   "metadata": {},
   "outputs": [
    {
     "name": "stdout",
     "output_type": "stream",
     "text": [
      "FlatMap({\n",
      "  'board_emb': FlatMap({'embeddings': (13, 128)}),\n",
      "  'board_pos_emb': FlatMap({'embeddings': (64, 128)}),\n",
      "  'castle_emb': FlatMap({'embeddings': (2, 128)}),\n",
      "  'elo_emb': FlatMap({'b': (128,), 'w': (1, 128)}),\n",
      "  'en_passant_emb': FlatMap({'embeddings': (65, 128)}),\n",
      "  'set_transformer/layer_norm': FlatMap({'offset': (128,), 'scale': (128,)}),\n",
      "  'set_transformer/mlp/linear': FlatMap({'b': (256,), 'w': (128, 256)}),\n",
      "  'set_transformer/mlp/linear_1': FlatMap({'b': (4096,), 'w': (256, 4096)}),\n",
      "  'set_transformer/~_init_modules_for_layer/layer_norm': FlatMap({'offset': (128,), 'scale': (128,)}),\n",
      "  'set_transformer/~_init_modules_for_layer/layer_norm_1': FlatMap({'offset': (128,), 'scale': (128,)}),\n",
      "  'set_transformer/~_init_modules_for_layer/mlp/linear': FlatMap({'b': (256,), 'w': (128, 256)}),\n",
      "  'set_transformer/~_init_modules_for_layer/mlp/linear_1': FlatMap({'b': (128,), 'w': (256, 128)}),\n",
      "  'set_transformer/~_init_modules_for_layer/multi_head_attention/key': FlatMap({'b': (128,), 'w': (128, 128)}),\n",
      "  'set_transformer/~_init_modules_for_layer/multi_head_attention/linear': FlatMap({'b': (128,), 'w': (128, 128)}),\n",
      "  'set_transformer/~_init_modules_for_layer/multi_head_attention/query': FlatMap({'b': (128,), 'w': (128, 128)}),\n",
      "  'set_transformer/~_init_modules_for_layer/multi_head_attention/value': FlatMap({'b': (128,), 'w': (128, 128)}),\n",
      "  'turn_emb': FlatMap({'embeddings': (2, 128)}),\n",
      "})\n"
     ]
    }
   ],
   "source": [
    "# view the parameter tree\n",
    "shapes = jax.tree_map(lambda x: x.shape, params)\n",
    "print(shapes)"
   ]
  },
  {
   "cell_type": "code",
   "execution_count": 8,
   "id": "64000661-1f08-410b-bcaa-c3c1bf90ffca",
   "metadata": {},
   "outputs": [],
   "source": [
    "# perform a forward pass\n",
    "output = apply(params, key, board_state, turn, castling_rights, en_passant, elo, is_training=True)"
   ]
  },
  {
   "cell_type": "code",
   "execution_count": 9,
   "id": "51318c0c-cb36-405b-afd3-dd6fe22e67ea",
   "metadata": {},
   "outputs": [
    {
     "name": "stdout",
     "output_type": "stream",
     "text": [
      "(3, 4096)\n"
     ]
    }
   ],
   "source": [
    "print(output.shape)"
   ]
  },
  {
   "cell_type": "code",
   "execution_count": 10,
   "id": "fb089fb1-5ea6-4cc0-938e-7c46e5f44ed3",
   "metadata": {},
   "outputs": [],
   "source": [
    "import torch"
   ]
  },
  {
   "cell_type": "code",
   "execution_count": 14,
   "id": "7a9a3d4b-cb29-4edb-9576-6351e4f5adde",
   "metadata": {},
   "outputs": [
    {
     "name": "stderr",
     "output_type": "stream",
     "text": [
      "/var/folders/ss/zljzgxd96_s2np814dty49wc0000gn/T/ipykernel_13652/1154880809.py:2: UserWarning: Implicit dimension choice for log_softmax has been deprecated. Change the call to include dim=X as an argument.\n",
      "  torch.nn.functional.log_softmax(x)\n"
     ]
    },
    {
     "data": {
      "text/plain": [
       "tensor([   -inf, -1.3133, -0.3133])"
      ]
     },
     "execution_count": 14,
     "metadata": {},
     "output_type": "execute_result"
    }
   ],
   "source": [
    "x = torch.tensor([-float('inf'), -5, -4])\n",
    "torch.nn.functional.log_softmax(x)"
   ]
  },
  {
   "cell_type": "code",
   "execution_count": 19,
   "id": "0dc3d7a7-a748-4582-8450-0da958bdecca",
   "metadata": {},
   "outputs": [
    {
     "name": "stdout",
     "output_type": "stream",
     "text": [
      "(array([0, 0, 1, 1, 2, 2]), array([0, 2, 0, 1, 1, 2]))\n"
     ]
    }
   ],
   "source": [
    "x = np.array([\n",
    "    [1, 2, 3, 10],\n",
    "    [4, 5, 6, 10],\n",
    "    [7, 8, 9, 10]\n",
    "])\n",
    "\n",
    "mask = np.array([\n",
    "    [1, 0, 1, 0],\n",
    "    [1, 1, 0, 0],\n",
    "    [0, 1, 1, 0]\n",
    "])\n",
    "\n",
    "w = np.where(mask)\n",
    "print(w)"
   ]
  },
  {
   "cell_type": "code",
   "execution_count": null,
   "id": "8fd12854-cf11-4751-8215-f3877bcd2580",
   "metadata": {},
   "outputs": [],
   "source": []
  }
 ],
 "metadata": {
  "kernelspec": {
   "display_name": "Python 3 (ipykernel)",
   "language": "python",
   "name": "python3"
  },
  "language_info": {
   "codemirror_mode": {
    "name": "ipython",
    "version": 3
   },
   "file_extension": ".py",
   "mimetype": "text/x-python",
   "name": "python",
   "nbconvert_exporter": "python",
   "pygments_lexer": "ipython3",
   "version": "3.8.12"
  }
 },
 "nbformat": 4,
 "nbformat_minor": 5
}
